{
 "cells": [
  {
   "metadata": {},
   "cell_type": "code",
   "outputs": [],
   "execution_count": null,
   "source": "!pip install pyspark",
   "id": "ac49d458e07f1058"
  },
  {
   "cell_type": "code",
   "execution_count": null,
   "id": "initial_id",
   "metadata": {
    "collapsed": true
   },
   "outputs": [],
   "source": [
    "from pyspark.sql import SparkSession\n",
    "\n",
    "spark = SparkSession.builder.appName(\"Products\").getOrCreate()"
   ]
  },
  {
   "metadata": {},
   "cell_type": "code",
   "outputs": [],
   "execution_count": null,
   "source": [
    "products_data = [(1, \"Хлеб\"), (2, \"Молоко\"), (3, \"Телефон\"), (4, \"Носки\")]\n",
    "products_df = spark.createDataFrame(products_data, [\"product_id\", \"product_name\"])\n",
    "\n",
    "categories_data = [(1, \"Еда\"), (2, \"Техника\")]\n",
    "categories_df = spark.createDataFrame(categories_data, [\"category_id\", \"category_name\"])\n",
    "\n",
    "relations_data = [(1, 1), (2, 1), (3, 2)]\n",
    "product_category_df = spark.createDataFrame(relations_data, [\"product_id\", \"category_id\"])\n"
   ],
   "id": "383930edc84932da"
  },
  {
   "metadata": {},
   "cell_type": "code",
   "outputs": [],
   "execution_count": null,
   "source": [
    "result = products_df.join(product_category_df, \"product_id\", \"left\") \\\n",
    "                   .join(categories_df, \"category_id\", \"left\") \\\n",
    "                   .select(\"product_name\", \"category_name\") \\\n",
    "                   .fillna({\"category_name\": \"Нет категории\"})\n",
    "\n",
    "result.show()"
   ],
   "id": "efd7f45d18bc39fe"
  }
 ],
 "metadata": {
  "kernelspec": {
   "display_name": "Python 3",
   "language": "python",
   "name": "python3"
  },
  "language_info": {
   "codemirror_mode": {
    "name": "ipython",
    "version": 2
   },
   "file_extension": ".py",
   "mimetype": "text/x-python",
   "name": "python",
   "nbconvert_exporter": "python",
   "pygments_lexer": "ipython2",
   "version": "2.7.6"
  }
 },
 "nbformat": 4,
 "nbformat_minor": 5
}
